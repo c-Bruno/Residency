{
 "cells": [
  {
   "cell_type": "code",
   "execution_count": null,
   "metadata": {},
   "outputs": [],
   "source": [
    "import pandas as pd\n",
    "from sklearn.tree import DecisionTreeClassifier\n",
    "from sklearn.model_selection import train_test_split\n",
    "from sklearn.metrics import accuracy_score\n",
    "from sklearn import tree\n",
    "import matplotlib.pyplot."
   ]
  },
  {
   "attachments": {},
   "cell_type": "markdown",
   "metadata": {},
   "source": [
    "<strong>species =</strong> Especies</br>\n",
    "<strong>island =</strong> Ilha</br>\n",
    "<strong>bill_length_mm =</strong> Comprimento do bico</br>\n",
    "<strong>bill_depth_mm =</strong> Profundidade do bico</br>\n",
    "<strong>flipper_length_mm =</strong> Comprimento da nadadeira</br>\n",
    "<strong>body_mass_g =</strong> Massa corporal</br>\n",
    "<strong>sex =</strong> Sexo</br>"
   ]
  },
  {
   "cell_type": "code",
   "execution_count": null,
   "metadata": {},
   "outputs": [],
   "source": [
    "dataframe_penguins = pd.read_csv('penguins.csv')\n",
    "# dataframe_penguins.shape # (n records, n columns)\n",
    "\n",
    "# dataframe_penguins.describe()\n",
    "# as colunas que não aparece provavelmente tem valores \"incorretos\"\n",
    "# std = standart deviation, que é a variação entre os valores\n",
    "\n",
    "# dataframe_penguins.values\n",
    "\n",
    "\n",
    "# bill_length_mean = dataframe_penguins['bill_length_mm'].mean()\n",
    "# dataframe_penguins.fillna(bill_length_mean, inplace=True) # Substitui os valores NaN pela média da coluna\n",
    "dataframe_penguins = dataframe_penguins.dropna(subset='sex')\n",
    "sexcolumn = dataframe_penguins['sex'] # saida\n",
    "\n",
    "data = dataframe_penguins[[\n",
    "    'bill_length_mm', \n",
    "    'bill_depth_mm', \n",
    "    'flipper_length_mm', \n",
    "    'body_mass_g',\n",
    "]] = dataframe_penguins.groupby('species')[[\n",
    "    'bill_length_mm', \n",
    "    'bill_depth_mm', \n",
    "    'flipper_length_mm', \n",
    "    'body_mass_g'\n",
    "]].transform(lambda x: x.fillna((x.mean()))).applymap('{:.3f}'.format)\n",
    "\n",
    "dataframe_penguins = pd.DataFrame(data)\n",
    "dataframe_penguins['sex'] = sexcolumn\n",
    "dataframe_penguins\n"
   ]
  },
  {
   "cell_type": "code",
   "execution_count": null,
   "metadata": {},
   "outputs": [],
   "source": [
    "x = dataframe_penguins.drop(columns=['sex']) # entrada\n",
    "y = dataframe_penguins['sex'] # saida\n",
    "x_train, x_test, y_train, y_test = train_test_split(x, y, test_size=0.2) # alocando 20% dos dados pra teste\n",
    "# as primeiras vareaveis são a saida de treinamento, e as outras duas são a saida de test\n",
    "\n",
    "model = DecisionTreeClassifier()"
   ]
  },
  {
   "cell_type": "code",
   "execution_count": null,
   "metadata": {},
   "outputs": [],
   "source": [
    "model.fit(x_train, y_train)"
   ]
  },
  {
   "cell_type": "code",
   "execution_count": null,
   "metadata": {},
   "outputs": [],
   "source": [
    "predictions = model.predict(x_test)\n",
    "\n",
    "score = accuracy_score(y_test, predictions)\n",
    "score"
   ]
  }
 ],
 "metadata": {
  "kernelspec": {
   "display_name": "Python 3",
   "language": "python",
   "name": "python3"
  },
  "language_info": {
   "codemirror_mode": {
    "name": "ipython",
    "version": 3
   },
   "file_extension": ".py",
   "mimetype": "text/x-python",
   "name": "python",
   "nbconvert_exporter": "python",
   "pygments_lexer": "ipython3",
   "version": "3.8.10"
  },
  "orig_nbformat": 4
 },
 "nbformat": 4,
 "nbformat_minor": 2
}
