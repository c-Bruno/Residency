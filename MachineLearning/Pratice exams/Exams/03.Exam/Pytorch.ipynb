{
 "cells": [
  {
   "attachments": {},
   "cell_type": "markdown",
   "id": "88b0a572",
   "metadata": {},
   "source": [
    "## Aula Assíncrona 22"
   ]
  },
  {
   "attachments": {},
   "cell_type": "markdown",
   "id": "ee804a1f",
   "metadata": {},
   "source": [
    "- RA: 23022371 - Carlos Eduardo de Souza\n",
    "- RA: 23022369 - Bruno Caboclo Dos Santos Ribeiro\n",
    "- RA: 23022385 - Julia Correa Colombo"
   ]
  },
  {
   "attachments": {},
   "cell_type": "markdown",
   "id": "23cb957b",
   "metadata": {},
   "source": [
    "# Título: Classificação de popularidade de músicas usando PyTorch\n",
    "\n",
    "## Descrição:\n",
    "Neste exercício, você será desafiado a aplicar o PyTorch para construir um modelo de classificação capaz de prever a popularidade de músicas com base em seus recursos. Para isso, utilizaremos um conjunto de dados que contém informações sobre as melhores músicas do Spotify de 2000 a 2023.\n",
    "\n",
    "### O conjunto de dados possui as seguintes colunas relevantes para nosso problema:\n",
    "\n",
    "- artist: o artista da música\n",
    "- top genre: o gênero musical predominante da música\n",
    "- bpm: batidas por minuto da música\n",
    "- energy: energia da música\n",
    "- dB: decibéis da música\n",
    "- liveness: probabilidade de ser uma gravação ao vivo\n",
    "- valence: valência emocional da música\n",
    "- acousticness: probabilidade de ser uma música acústica\n",
    "- danceability: capacidade de dançar ao ritmo da música\n",
    "- duration: duração da música em segundos\n",
    "- speechiness: probabilidade de conter palavras faladas na música\n",
    "- popularity: popularidade da música (variando de 0 a 100)\n",
    "\n",
    "\n",
    "Seu objetivo é treinar um modelo de classificação usando PyTorch que seja capaz de prever a popularidade de uma música com base em seus recursos.\n",
    "\n",
    "### Sugestão de passos a seguir:\n",
    "\n",
    "1. Faça a importação do conjunto de dados a partir do dataset fornecido.\n",
    "2. Importe as bibliotecas necessárias: pandas, numpy, torch, torchvision, etc.\n",
    "3. Carregue o conjunto de dados usando a biblioteca Pandas.\n",
    "4. Realize o pré-processamento necessário no conjunto de dados, incluindo a categorização dos valores da coluna \"popularity\" em três classes (0, 1 e 2) usando a função pd.cut.\n",
    "5. Realize a codificação one-hot das colunas \"artist\" e \"top genre\" usando a função onehot_encode.\n",
    "6. Separe o conjunto de dados em recursos (X) e rótulos de destino (y). Descarte as colunas irrelevantes para o modelo.\n",
    "7. Converta os dados para tensores do PyTorch.\n",
    "8. Crie uma classe CTDataset que herda torch.utils.data.Dataset e implemente os métodos __init__, __len__ e __getitem__ para representar o conjunto de dados.\n",
    "7. Divida o conjunto de dados em conjuntos de treinamento, validação e teste usando a função random_split do PyTorch, de acordo com as proporções especificadas.\n",
    "8. Crie carregadores de dados (DataLoader) para cada conjunto, com um tamanho de lote (batch size) adequado.\n",
    "9. Defina a arquitetura da rede neural no PyTorch, incluindo as camadas Linear necessárias.\n",
    "10. Defina a função de perda (loss function) como CrossEntropyLoss e o otimizador como Adam.\n",
    "11. Mova o modelo para a GPU, se disponível, para acelerar o treinamento.\n",
    "12. Execute o treinamento do modelo por um número específico de épocas, calculando a perda média ao longo das iterações de treinamento.\n",
    "13. Avalie o desempenho do modelo nos conjuntos de validação e teste, calculando a acurácia, precisão, recall e exibindo o relatório de classificação.\n",
    "15. Discuta as descobertas e faça uma reflexão sobre a aplicação do PyTorch em problemas de classificação de dados do mundo real.\n",
    "\n",
    "**O objetivo é alcançar a melhor precisão possível na classificação da popularidade das músicas. Experimente diferentes arquiteturas de rede neural, funções de ativação, hiperparâmetros e técnicas de regularização para obter resultados ainda melhores.**\n",
    "\n",
    "**Você pode utilizar as bibliotecas matplotlib ou outras ferramentas de visualização para analisar os resultados e apresentar gráficos informativos.**"
   ]
  },
  {
   "cell_type": "code",
   "execution_count": 2,
   "id": "af067c6c",
   "metadata": {},
   "outputs": [
    {
     "data": {
      "text/html": [
       "<div>\n",
       "<style scoped>\n",
       "    .dataframe tbody tr th:only-of-type {\n",
       "        vertical-align: middle;\n",
       "    }\n",
       "\n",
       "    .dataframe tbody tr th {\n",
       "        vertical-align: top;\n",
       "    }\n",
       "\n",
       "    .dataframe thead th {\n",
       "        text-align: right;\n",
       "    }\n",
       "</style>\n",
       "<table border=\"1\" class=\"dataframe\">\n",
       "  <thead>\n",
       "    <tr style=\"text-align: right;\">\n",
       "      <th></th>\n",
       "      <th>title</th>\n",
       "      <th>artist</th>\n",
       "      <th>top genre</th>\n",
       "      <th>year</th>\n",
       "      <th>bpm</th>\n",
       "      <th>energy</th>\n",
       "      <th>danceability</th>\n",
       "      <th>dB</th>\n",
       "      <th>liveness</th>\n",
       "      <th>valence</th>\n",
       "      <th>duration</th>\n",
       "      <th>acousticness</th>\n",
       "      <th>speechiness</th>\n",
       "      <th>popularity</th>\n",
       "    </tr>\n",
       "  </thead>\n",
       "  <tbody>\n",
       "    <tr>\n",
       "      <th>0</th>\n",
       "      <td>Flowers</td>\n",
       "      <td>Miley Cyrus</td>\n",
       "      <td>pop</td>\n",
       "      <td>2023</td>\n",
       "      <td>118</td>\n",
       "      <td>68</td>\n",
       "      <td>71</td>\n",
       "      <td>-4</td>\n",
       "      <td>3</td>\n",
       "      <td>65</td>\n",
       "      <td>200</td>\n",
       "      <td>6</td>\n",
       "      <td>7</td>\n",
       "      <td>98</td>\n",
       "    </tr>\n",
       "    <tr>\n",
       "      <th>1</th>\n",
       "      <td>Cupid - Twin Ver.</td>\n",
       "      <td>FIFTY FIFTY</td>\n",
       "      <td>k-pop girl group</td>\n",
       "      <td>2023</td>\n",
       "      <td>120</td>\n",
       "      <td>59</td>\n",
       "      <td>78</td>\n",
       "      <td>-8</td>\n",
       "      <td>35</td>\n",
       "      <td>73</td>\n",
       "      <td>174</td>\n",
       "      <td>44</td>\n",
       "      <td>3</td>\n",
       "      <td>97</td>\n",
       "    </tr>\n",
       "    <tr>\n",
       "      <th>2</th>\n",
       "      <td>BESO</td>\n",
       "      <td>ROSALÍA</td>\n",
       "      <td>pop</td>\n",
       "      <td>2023</td>\n",
       "      <td>95</td>\n",
       "      <td>64</td>\n",
       "      <td>77</td>\n",
       "      <td>-7</td>\n",
       "      <td>17</td>\n",
       "      <td>53</td>\n",
       "      <td>195</td>\n",
       "      <td>74</td>\n",
       "      <td>14</td>\n",
       "      <td>96</td>\n",
       "    </tr>\n",
       "    <tr>\n",
       "      <th>3</th>\n",
       "      <td>Boy's a liar Pt. 2</td>\n",
       "      <td>PinkPantheress</td>\n",
       "      <td>bronx drill</td>\n",
       "      <td>2023</td>\n",
       "      <td>133</td>\n",
       "      <td>81</td>\n",
       "      <td>70</td>\n",
       "      <td>-8</td>\n",
       "      <td>25</td>\n",
       "      <td>86</td>\n",
       "      <td>131</td>\n",
       "      <td>25</td>\n",
       "      <td>5</td>\n",
       "      <td>96</td>\n",
       "    </tr>\n",
       "    <tr>\n",
       "      <th>4</th>\n",
       "      <td>Creepin' (with The Weeknd &amp; 21 Savage)</td>\n",
       "      <td>Metro Boomin</td>\n",
       "      <td>rap</td>\n",
       "      <td>2022</td>\n",
       "      <td>98</td>\n",
       "      <td>62</td>\n",
       "      <td>72</td>\n",
       "      <td>-6</td>\n",
       "      <td>8</td>\n",
       "      <td>17</td>\n",
       "      <td>222</td>\n",
       "      <td>42</td>\n",
       "      <td>5</td>\n",
       "      <td>96</td>\n",
       "    </tr>\n",
       "  </tbody>\n",
       "</table>\n",
       "</div>"
      ],
      "text/plain": [
       "                                    title          artist         top genre  \\\n",
       "0                                 Flowers     Miley Cyrus               pop   \n",
       "1                       Cupid - Twin Ver.     FIFTY FIFTY  k-pop girl group   \n",
       "2                                    BESO         ROSALÍA               pop   \n",
       "3                      Boy's a liar Pt. 2  PinkPantheress       bronx drill   \n",
       "4  Creepin' (with The Weeknd & 21 Savage)    Metro Boomin               rap   \n",
       "\n",
       "   year  bpm  energy  danceability   dB  liveness  valence  duration  \\\n",
       "0  2023  118      68             71  -4         3       65       200   \n",
       "1  2023  120      59             78  -8        35       73       174   \n",
       "2  2023   95      64             77  -7        17       53       195   \n",
       "3  2023  133      81             70  -8        25       86       131   \n",
       "4  2022   98      62             72  -6         8       17       222   \n",
       "\n",
       "   acousticness  speechiness   popularity  \n",
       "0             6             7          98  \n",
       "1            44             3          97  \n",
       "2            74            14          96  \n",
       "3            25             5          96  \n",
       "4            42             5          96  "
      ]
     },
     "execution_count": 2,
     "metadata": {},
     "output_type": "execute_result"
    }
   ],
   "source": [
    "#1.Importação do conjunto de dados\n",
    "\n",
    "import numpy as np\n",
    "import pandas as pd\n",
    "import torch\n",
    "import torch.nn as nn\n",
    "import torch.optim as optim\n",
    "import torch.utils.data as data\n",
    "from sklearn.preprocessing import LabelEncoder\n",
    "from sklearn.model_selection import train_test_split\n",
    "from sklearn.metrics import classification_report\n",
    "from sklearn.preprocessing import OneHotEncoder\n",
    "from torch.utils.data import random_split\n",
    "import torch.nn.functional as F\n",
    "\n",
    "\n",
    "\n",
    "df = pd.read_csv('./Best Songs on Spotify from 2000-2023-1.csv', delimiter=';')\n",
    "df.head()\n",
    "\n",
    "#2.Importação das bibliotecas necessárias (Já realizadas)\n",
    "\n",
    "#3.Carregamento do conjunto de dados usando a biblioteca Pandas (Já realizadas)"
   ]
  },
  {
   "cell_type": "code",
   "execution_count": 3,
   "id": "d6716722",
   "metadata": {},
   "outputs": [],
   "source": [
    "#4.Pré-processamento do conjunto de dados\n",
    "df[\"popularity\"] = pd.cut(df[\"popularity\"], bins=[-1, 33, 66, 100], labels=[0, 1, 2])\n"
   ]
  },
  {
   "cell_type": "code",
   "execution_count": 4,
   "id": "af6d6b83",
   "metadata": {},
   "outputs": [
    {
     "name": "stderr",
     "output_type": "stream",
     "text": [
      "c:\\Users\\cadu\\AppData\\Local\\Programs\\Python\\Python310\\lib\\site-packages\\sklearn\\preprocessing\\_encoders.py:868: FutureWarning: `sparse` was renamed to `sparse_output` in version 1.2 and will be removed in 1.4. `sparse_output` is ignored unless you leave `sparse` to its default value.\n",
      "  warnings.warn(\n"
     ]
    }
   ],
   "source": [
    "# Passo 5: Codificação one-hot das colunas \"artist\" e \"top genre\"\n",
    "columns_to_encode = [\"artist\", \"top genre\"]\n",
    "\n",
    "# Criar um objeto OneHotEncoder\n",
    "encoder = OneHotEncoder(sparse=False, sparse_output=False)\n",
    "\n",
    "# Codificar as colunas \"artist\" e \"top genre\" nos dados\n",
    "X_encoded = encoder.fit_transform(df[columns_to_encode])"
   ]
  },
  {
   "cell_type": "code",
   "execution_count": 5,
   "id": "7550dac1",
   "metadata": {},
   "outputs": [],
   "source": [
    "# Passo 6: Separação do conjunto de dados em recursos (X) e rótulos de destino (y)\n",
    "X = X_encoded.astype(float)\n",
    "y = df[\"popularity\"].values.astype(float)\n"
   ]
  },
  {
   "cell_type": "code",
   "execution_count": 6,
   "id": "ebe4b8e1",
   "metadata": {},
   "outputs": [],
   "source": [
    "# Passo 7: Conversão dos dados para tensores do PyTorch\n",
    "X = X.astype(np.float32)\n",
    "y = y.astype(np.float32)\n",
    "\n",
    "x_train_tensor = torch.from_numpy(X).float()\n",
    "y_train_tensor = torch.from_numpy(y).unsqueeze(1).float()\n",
    "\n"
   ]
  },
  {
   "cell_type": "code",
   "execution_count": 7,
   "id": "e42a6bb6",
   "metadata": {},
   "outputs": [],
   "source": [
    "#8.Criação da classe CTDataset\n",
    "class CTDataset(data.Dataset):\n",
    "    def __init__(self, X, y):\n",
    "        self.X = X\n",
    "        self.y = torch.from_numpy(y).long()\n",
    "    \n",
    "    def __len__(self):\n",
    "        return len(self.X)\n",
    "    \n",
    "    def __getitem__(self, index):\n",
    "        return self.X[index], self.y[index]\n",
    "\n",
    "#7.Divisão do conjunto de dados em conjuntos de treinamento, validação e teste\n",
    "X_train, X_temp, y_train, y_temp = train_test_split(X, y, test_size=0.3, random_state=42)\n",
    "X_val, X_test, y_val, y_test = train_test_split(X_temp, y_temp, test_size=0.5, random_state=42)\n",
    "\n",
    "#8.Crie carregadores de dados (DataLoader) para cada conjunto, com um tamanho de lote (batch size) adequado.\n",
    "batch_size = 64\n",
    "train_dataset = CTDataset(X_train, y_train)\n",
    "val_dataset = CTDataset(X_val, y_val)\n",
    "test_dataset = CTDataset(X_test, y_test)\n",
    "\n",
    "train_loader = data.DataLoader(train_dataset, batch_size=batch_size, shuffle=True)\n",
    "val_loader = data.DataLoader(val_dataset, batch_size=batch_size)\n",
    "test_loader = data.DataLoader(test_dataset, batch_size=batch_size)\n",
    "\n"
   ]
  },
  {
   "cell_type": "code",
   "execution_count": 8,
   "id": "879e2234",
   "metadata": {},
   "outputs": [],
   "source": [
    "#9.Defina a arquitetura da rede neural no PyTorch, incluindo as camadas Linear necessárias.\n",
    "\n",
    "class Classifier(nn.Module):\n",
    "\n",
    "    def __init__(self):\n",
    "\n",
    "        super().__init__()\n",
    "        self.fc1 = nn.Linear(1280, 256)\n",
    "        self.fc2 = nn.Linear(256,128)\n",
    "        self.fc3 = nn.Linear(128,64)\n",
    "        self.fc4 = nn.Linear(64,10)\n",
    "        self.dropout = nn.Dropout(0.2)\n",
    "\n",
    "    def forward(self,x):\n",
    "\n",
    "        x = x.view(x.shape[0],-1)\n",
    "        x = self.dropout(F.relu(self.fc1(x))) \n",
    "        x = self.dropout(F.relu(self.fc2(x)))   \n",
    "        x = self.dropout(F.relu(self.fc3(x)))  \n",
    "        x = F.log_softmax(self.fc4(x))   \n",
    "\n",
    "        return x\n",
    "    "
   ]
  },
  {
   "cell_type": "code",
   "execution_count": 9,
   "id": "580e64c9",
   "metadata": {},
   "outputs": [],
   "source": [
    "#10.  Defina a função de perda (loss function) como CrossEntropyLoss e o otimizador como Adam.\n",
    "\n",
    "# Definição da arquitetura da rede neural\n",
    "model = Classifier()\n",
    "\n",
    "# Definição da função de perda (loss function)\n",
    "criterion = nn.CrossEntropyLoss()\n",
    "\n",
    "# Definição do otimizador\n",
    "optimizer = torch.optim.Adam(model.parameters(), lr=0.001)\n",
    "\n",
    "val_loss_min = np.inf\n",
    "epochs = 40\n",
    "steps = 0\n",
    "model.train()\n",
    "train_losses = []\n",
    "val_losses = []\n"
   ]
  },
  {
   "cell_type": "code",
   "execution_count": 10,
   "id": "83b9f691",
   "metadata": {},
   "outputs": [],
   "source": [
    "#11.Mova o modelo para a GPU, se disponível, para acelerar o treinamento.\n",
    "\n",
    "device = torch.device(\"cuda\" if torch.cuda.is_available() else \"cpu\")\n",
    "model.to(device)\n",
    "\n",
    "x_train_tensor = x_train_tensor.to(device)\n",
    "y_train_tensor = y_train_tensor.to(device)"
   ]
  },
  {
   "cell_type": "code",
   "execution_count": 11,
   "id": "bedbb1bd",
   "metadata": {},
   "outputs": [
    {
     "name": "stderr",
     "output_type": "stream",
     "text": [
      "C:\\Users\\cadu\\AppData\\Local\\Temp\\ipykernel_10312\\312785182.py:20: UserWarning: Implicit dimension choice for log_softmax has been deprecated. Change the call to include dim=X as an argument.\n",
      "  x = F.log_softmax(self.fc4(x))\n"
     ]
    },
    {
     "name": "stdout",
     "output_type": "stream",
     "text": [
      "Epoch [10000/100000], Loss: 0.2028\n",
      "Epoch [20000/100000], Loss: 0.2224\n",
      "Epoch [30000/100000], Loss: 0.2604\n",
      "Epoch [40000/100000], Loss: 0.0816\n",
      "Epoch [50000/100000], Loss: 0.0487\n",
      "Epoch [60000/100000], Loss: 0.0483\n",
      "Epoch [70000/100000], Loss: 0.3402\n",
      "Epoch [80000/100000], Loss: 0.2819\n",
      "Epoch [90000/100000], Loss: 0.0639\n",
      "Epoch [100000/100000], Loss: 0.2141\n"
     ]
    }
   ],
   "source": [
    "#12. Execute o treinamento do modelo por um número específico de épocas, calculando a perda média ao longo das iterações de treinamento.\n",
    "\n",
    "num_epochs = 100000\n",
    "\n",
    "for epoch in range(num_epochs):\n",
    "    model.train()\n",
    "    running_loss = 0.0\n",
    "    for inputs, labels in train_loader:\n",
    "        inputs = inputs.to(device)\n",
    "        labels = labels.to(device)\n",
    "        \n",
    "        optimizer.zero_grad()\n",
    "        \n",
    "        outputs = model(inputs)\n",
    "        loss = criterion(outputs, labels)\n",
    "        loss.backward()\n",
    "        optimizer.step()\n",
    "            \n",
    "    # Printar a perda a cada 100 iterações\n",
    "    if (epoch+1) % 10000 == 0:\n",
    "        print('Epoch [{}/{}], Loss: {:.4f}'.format(epoch+1, num_epochs, loss.item()))\n"
   ]
  },
  {
   "cell_type": "code",
   "execution_count": 12,
   "id": "549e7074",
   "metadata": {},
   "outputs": [
    {
     "name": "stdout",
     "output_type": "stream",
     "text": [
      "Acurácia no conjunto de validação: 0.7067\n",
      "Acurácia no conjunto de teste: 0.6732\n"
     ]
    },
    {
     "name": "stderr",
     "output_type": "stream",
     "text": [
      "C:\\Users\\cadu\\AppData\\Local\\Temp\\ipykernel_10312\\312785182.py:20: UserWarning: Implicit dimension choice for log_softmax has been deprecated. Change the call to include dim=X as an argument.\n",
      "  x = F.log_softmax(self.fc4(x))\n"
     ]
    }
   ],
   "source": [
    "def evaluate(model, loader):\n",
    "    model.eval()\n",
    "    total_correct = 0\n",
    "    total_samples = 0\n",
    "\n",
    "    with torch.no_grad():\n",
    "        for inputs, labels in loader:\n",
    "            inputs = inputs.to(device)\n",
    "            labels = labels.to(device)\n",
    "\n",
    "            outputs = model(inputs)\n",
    "            _, predicted = torch.max(outputs, 1)\n",
    "\n",
    "            total_samples += labels.size(0)\n",
    "            total_correct += (predicted == labels).sum().item()\n",
    "\n",
    "    accuracy = total_correct / total_samples\n",
    "    return accuracy\n",
    "\n",
    "# Avaliação no conjunto de validação\n",
    "val_accuracy = evaluate(model, val_loader)\n",
    "print(f\"Acurácia no conjunto de validação: {val_accuracy:.4f}\")\n",
    "\n",
    "# Avaliação no conjunto de teste\n",
    "test_accuracy = evaluate(model, test_loader)\n",
    "print(f\"Acurácia no conjunto de teste: {test_accuracy:.4f}\")\n"
   ]
  },
  {
   "cell_type": "code",
   "execution_count": 26,
   "id": "c291a467",
   "metadata": {},
   "outputs": [
    {
     "data": {
      "image/png": "[encoded data removed]",
      "text/plain": [
       "<Figure size 432x288 with 1 Axes>"
      ]
     },
     "metadata": {
      "needs_background": "light"
     },
     "output_type": "display_data"
    }
   ],
   "source": [
    "import matplotlib.pyplot as plt\n",
    "\n",
    "# plt_epoch = [10000, 20000, 30000, 40000, 50000, 60000, 70000, 80000, 90000, 100000]\n",
    "plt_epoch = [1, 2, 3, 4, 5, 6, 7, 8, 9, 10]\n",
    "plt_loss = [0.2028, 0.2224, 0.2604, 0.0816, 0.0487, 0.0483, 0.3402, 0.2819, 0.0639, 0.2141]\n",
    "\n",
    "plt.plot(plt_epoch)\n",
    "plt.plot(plt_loss)\n",
    "plt.xlabel('Época')\n",
    "plt.ylabel('Perda')\n",
    "plt.title('Gráfico de Perdas')\n",
    "plt.legend(labels=['Época', 'Perda'])\n",
    "plt.show()"
   ]
  },
  {
   "cell_type": "code",
   "execution_count": 13,
   "id": "d7f2c8bf",
   "metadata": {},
   "outputs": [
    {
     "name": "stdout",
     "output_type": "stream",
     "text": [
      "Relatório de Classificação (Conjunto de Validação):\n",
      "              precision    recall  f1-score   support\n",
      "\n",
      "           0       0.67      0.67      0.67         3\n",
      "           1       0.52      0.59      0.55       109\n",
      "           2       0.81      0.76      0.78       246\n",
      "\n",
      "    accuracy                           0.71       358\n",
      "   macro avg       0.66      0.67      0.67       358\n",
      "weighted avg       0.72      0.71      0.71       358\n",
      "\n",
      "Relatório de Classificação (Conjunto de Teste):\n",
      "              precision    recall  f1-score   support\n",
      "\n",
      "           0       0.50      0.33      0.40         3\n",
      "           1       0.47      0.56      0.51       108\n",
      "           2       0.79      0.73      0.76       247\n",
      "\n",
      "    accuracy                           0.67       358\n",
      "   macro avg       0.59      0.54      0.56       358\n",
      "weighted avg       0.69      0.67      0.68       358\n",
      "\n"
     ]
    },
    {
     "name": "stderr",
     "output_type": "stream",
     "text": [
      "C:\\Users\\cadu\\AppData\\Local\\Temp\\ipykernel_10312\\312785182.py:20: UserWarning: Implicit dimension choice for log_softmax has been deprecated. Change the call to include dim=X as an argument.\n",
      "  x = F.log_softmax(self.fc4(x))\n",
      "C:\\Users\\cadu\\AppData\\Local\\Temp\\ipykernel_10312\\312785182.py:20: UserWarning: Implicit dimension choice for log_softmax has been deprecated. Change the call to include dim=X as an argument.\n",
      "  x = F.log_softmax(self.fc4(x))\n"
     ]
    }
   ],
   "source": [
    "from sklearn.metrics import classification_report\n",
    "\n",
    "def predict(model, loader):\n",
    "    model.eval()\n",
    "    all_labels = []\n",
    "    all_predictions = []\n",
    "\n",
    "    with torch.no_grad():\n",
    "        for inputs, labels in loader:\n",
    "            inputs = inputs.to(device)\n",
    "\n",
    "            outputs = model(inputs)\n",
    "            _, predicted = torch.max(outputs, 1)\n",
    "\n",
    "            all_labels.extend(labels.cpu().numpy())\n",
    "            all_predictions.extend(predicted.cpu().numpy())\n",
    "\n",
    "    return all_labels, all_predictions\n",
    "\n",
    "# Previsões no conjunto de validação\n",
    "val_labels, val_predictions = predict(model, val_loader)\n",
    "print(\"Relatório de Classificação (Conjunto de Validação):\")\n",
    "print(classification_report(val_labels, val_predictions))\n",
    "\n",
    "# Previsões no conjunto de teste\n",
    "test_labels, test_predictions = predict(model, test_loader)\n",
    "print(\"Relatório de Classificação (Conjunto de Teste):\")\n",
    "print(classification_report(test_labels, test_predictions))\n"
   ]
  },
  {
   "attachments": {},
   "cell_type": "markdown",
   "id": "5db22fae",
   "metadata": {},
   "source": [
    "### Discussão"
   ]
  },
  {
   "attachments": {},
   "cell_type": "markdown",
   "id": "f20057d7",
   "metadata": {},
   "source": [
    "A análise das métricas de avaliação, como precisão, recall, f1-score e acurácia, fornece insights sobre o desempenho do modelo em diferentes classes ou categorias.\n",
    "\n",
    "Com base no resultado do nosso treinamento e analisando o relatório de classificação, segue discussões:\n",
    "\n",
    "A precisão média ponderada (weighted avg) é de 71% no conjunto de validação e 68% no conjunto de teste. Isso indica que o modelo está realizando uma classificação razoável, mas ainda há espaço para melhorias. A classe \"2\" (maior popularidade) parece ter um desempenho melhor do que as outras classes, sugerindo que o modelo pode ter dificuldade em distinguir entre as classes de popularidade mais baixa.\n",
    "O PyTorch oferece vários recursos e flexibilidade para enfrentar problemas de classificação de dados do mundo real. É necessário considerar cuidadosamente a qualidade dos dados, experimentar diferentes abordagens e ajustar os hiperparâmetros para obter resultados cada vez melhores. É possível construir modelos eficazes e obter insights valiosos por meio da classificação de dados."
   ]
  }
 ],
 "metadata": {
  "kernelspec": {
   "display_name": "Python 3 (ipykernel)",
   "language": "python",
   "name": "python3"
  },
  "language_info": {
   "codemirror_mode": {
    "name": "ipython",
    "version": 3
   },
   "file_extension": ".py",
   "mimetype": "text/x-python",
   "name": "python",
   "nbconvert_exporter": "python",
   "pygments_lexer": "ipython3",
   "version": "3.10.5"
  }
 },
 "nbformat": 4,
 "nbformat_minor": 5
}
