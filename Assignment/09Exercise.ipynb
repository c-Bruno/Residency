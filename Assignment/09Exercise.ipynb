{
 "cells": [
  {
   "attachments": {},
   "cell_type": "markdown",
   "metadata": {},
   "source": [
    "# AULA 009: Aplicação do __Jupyther Notebook__\n"
   ]
  },
  {
   "attachments": {},
   "cell_type": "markdown",
   "metadata": {},
   "source": [
    "Jupyher Notebook elaborado por [__Bruno Caboclo Dos Santos Ribeiro__](https://github.com/c-Bruno).  (ribeiro.caboclo@gmail.com). <br>\n",
    "Data: 01/04/2023"
   ]
  },
  {
   "attachments": {},
   "cell_type": "markdown",
   "metadata": {},
   "source": [
    "Neste Atividade proposta pelo professor __ANDRE MENDELECK__, vamos explorar a ferramenta jupyter notebook. <br>\n",
    "Para isso estarei aplicado uma nova implementação a algum dos exercícios que foram apresentados em aulas anteriores, indicando __vantagens e desvantagens__ de como a ferramenta pode me a explorar o funcionamento de comandos em python, além de permitir que o código seja intercalado com textos <br>"
   ]
  },
  {
   "attachments": {},
   "cell_type": "markdown",
   "metadata": {},
   "source": [
    "# Sumário\n",
    "- [1. Quais as __vantagens__ de utilizar o Jupyther? ](#0)\n",
    "- [2. Mas e as __desvantagens__?](#1)\n",
    "- [2. Exercicio escolhido](#2)\n",
    "    - [Bibliotecas](#21)\n",
    "    - [Implementação](#22)"
   ]
  },
  {
   "cell_type": "markdown",
   "metadata": {},
   "source": [
    "<a name=\"0\"></a>\n",
    "#### Quais as __vantagens__ de utilizar o Jupyther? "
   ]
  },
  {
   "attachments": {},
   "cell_type": "markdown",
   "metadata": {},
   "source": [
    "- __Interatividade__: o Jupyter Notebook permite que os usuários executem o código e vejam os resultados diretamente no mesmo ambiente, tornando a experimentação e a depuração mais fáceis e eficientes.\n",
    "- __Colaboração__: o Jupyter Notebook permite que os usuários compartilhem seus notebooks com outras pessoas, permitindo a colaboração em tempo real em projetos e análises de dados.\n",
    "- __Documentação__: o Jupyter Notebook permite que os usuários documentem seu código e análises em um único lugar, tornando mais fácil para outros entenderem o que está acontecendo em seu trabalho.\n",
    "- __Legibilidade__: O Jupyter Notebook permite a inserção de textos e anotações explicativas entre os blocos de códigos, ajudando na visualização e entendimento.\n",
    "- __Execução__: O Jupyter Notebook permitem que você execute e experimente pequenos trechos de código por vez,"
   ]
  },
  {
   "cell_type": "markdown",
   "metadata": {},
   "source": [
    "<a name=\"1\"></a>\n",
    "#### Mas e as __desvantagens__?"
   ]
  },
  {
   "attachments": {},
   "cell_type": "markdown",
   "metadata": {},
   "source": [
    "- __Dependências do software__: Notebooks Jupyter podem depender de várias bibliotecas e pacotes, e a falta de um deles pode impedir que o notebook seja executado corretamente\n",
    "- __Segurança__: Os notebooks podem executar código de fontes externas, o que pode levar à execução de código malicioso. Desta forma os notebooks precisam ser configurados com muito cuidado\n",
    "- __Dificuldades em trabalhar com grandes conjuntos de dados__: Dependendo da complexidade do código, existe a possibilidade de se perder na ordem de execução dos códigos e ter resultados inesperados."
   ]
  },
  {
   "attachments": {},
   "cell_type": "markdown",
   "metadata": {},
   "source": [
    "<a name=\"2\"></a>\n",
    "# Exercicio escolhido"
   ]
  },
  {
   "attachments": {},
   "cell_type": "markdown",
   "metadata": {},
   "source": [
    "Para esta atividade, escolhi fazer uma reimplementação do __Pedra, Papel e Tesoura__<br>"
   ]
  },
  {
   "cell_type": "code",
   "execution_count": null,
   "metadata": {},
   "outputs": [],
   "source": [
    "#----------------------------------------------------------------------------\n",
    "# IMPORTANDO BIBLIOTECAS\n",
    "#----------------------------------------------------------------------------\n",
    "import random"
   ]
  },
  {
   "cell_type": "code",
   "execution_count": 5,
   "metadata": {},
   "outputs": [],
   "source": [
    "#----------------------------------------------------------------------------\n",
    "# FUNÇÕES AUXILIARES\n",
    "#----------------------------------------------------------------------------\n",
    "def playerChoice(move):\n",
    "    if (move == 0):\n",
    "        return \"Pedra\"\n",
    "    elif (move == 1):\n",
    "        return \"Papel\"\n",
    "    else:\n",
    "        return \"Tesoura\""
   ]
  },
  {
   "cell_type": "code",
   "execution_count": 6,
   "metadata": {},
   "outputs": [
    {
     "name": "stdout",
     "output_type": "stream",
     "text": [
      "\n",
      "- Você escolheu Pedra.\n",
      "- O computador escolheu Pedra.\n",
      "--- Empate! ---\n"
     ]
    }
   ],
   "source": [
    "#-------------------------------------------------------------------------------------------\n",
    "# IMPLEMENTAÇÃO\n",
    "#-------------------------------------------------------------------------------------------\n",
    "playersChosenNumber = int(input(\"Escolha Pedra (0), Papel (1) ou Tesoura (2): \")) # Leitura do numero do jogador\n",
    "computersChosenNumber = random.randint(0, 2) # Geração de um numero para o computador\n",
    "\n",
    "print(f\"\\n- Você escolheu {playerChoice(playersChosenNumber)}.\\n- O computador escolheu {playerChoice(computersChosenNumber)}.\")\n",
    "# Verifica quem ganhou\n",
    "if (playersChosenNumber == computersChosenNumber):\n",
    "    print(\"--- Empate! ---\")\n",
    "elif ((playersChosenNumber == 0 and computersChosenNumber == 2) or \n",
    "        (playersChosenNumber == 1 and computersChosenNumber == 0) or\n",
    "        (playersChosenNumber == 2 and computersChosenNumber == 1)\n",
    "    ):\n",
    "    print(\"--- Você ganhou! ---\")\n",
    "else:\n",
    "    print(\"--- Você perdeu! ---\")"
   ]
  }
 ],
 "metadata": {
  "kernelspec": {
   "display_name": "Python 3",
   "language": "python",
   "name": "python3"
  },
  "language_info": {
   "codemirror_mode": {
    "name": "ipython",
    "version": 3
   },
   "file_extension": ".py",
   "mimetype": "text/x-python",
   "name": "python",
   "nbconvert_exporter": "python",
   "pygments_lexer": "ipython3",
   "version": "3.8.10"
  },
  "orig_nbformat": 4
 },
 "nbformat": 4,
 "nbformat_minor": 2
}
